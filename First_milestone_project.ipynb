{
 "cells": [
  {
   "cell_type": "code",
   "execution_count": 1,
   "metadata": {},
   "outputs": [],
   "source": [
    "from IPython.display import clear_output\n",
    "\n",
    "def display_board(board):\n",
    "    clear_output()\n",
    "    print ('Welcome to Tic Tac Toe....! ')\n",
    "    print (f\" {board[7]} | {board[8]} | {board[9]} \\n {board[4]} | {board[5]} | {board[6]} \\n {board[1]} | {board[2]} | {board[3]} \")\n",
    "    "
   ]
  },
  {
   "cell_type": "code",
   "execution_count": 2,
   "metadata": {},
   "outputs": [],
   "source": [
    "def player_input():\n",
    "    \n",
    "    player_1 = \"wrong\"\n",
    "    \n",
    "    while player_1 not in ['X','O']:\n",
    "        player_1 = input('Do you want to be X or O :')\n",
    "                \n",
    "        if player_1 == 'X':\n",
    "            print (\"Player 1 will go first\")\n",
    "            return ('X','O')\n",
    "        else:\n",
    "            print ('Player 2 will go first')\n",
    "            return ('O','X')\n",
    "        "
   ]
  },
  {
   "cell_type": "code",
   "execution_count": 3,
   "metadata": {},
   "outputs": [],
   "source": [
    "def readytoplay():\n",
    "    decision = 'Wrong'\n",
    "    while decision not in ['Yes','No']:\n",
    "        decision = input(\"Are you ready to play ? Enter Yes or No : \")\n",
    "        if decision not in ['Yes','No']:\n",
    "            print (\"Please enter Yes or No wether to continue playing. : \")\n",
    "        else:\n",
    "            return decision =='Yes'\n",
    "                   "
   ]
  },
  {
   "cell_type": "code",
   "execution_count": 4,
   "metadata": {},
   "outputs": [],
   "source": [
    "import random\n",
    "\n",
    "def choice_first():\n",
    "    if random.randint(0,1)==0:\n",
    "        return 'Player 1'\n",
    "    else:\n",
    "        return 'Player 2'"
   ]
  },
  {
   "cell_type": "code",
   "execution_count": 5,
   "metadata": {},
   "outputs": [],
   "source": [
    "def win_check(matrix,marker):\n",
    "    return (matrix[1]==marker and matrix[2]==marker and matrix[3]==marker) or (matrix[4]==marker and matrix[5]==marker and matrix[6]==marker) or(matrix[7]==marker and matrix[8]==marker and matrix[9]==marker) or (matrix[7]==marker and matrix[4]==marker and matrix[1]==marker) or(matrix[8]==marker and matrix[5]==marker and matrix[2]==marker) or(matrix[9]==marker and matrix[6]==marker and matrix[3]==marker) or(matrix[7]==marker and matrix[5]==marker and matrix[3]==marker) or(matrix[9]==marker and matrix[5]==marker and matrix[1]==marker)"
   ]
  },
  {
   "cell_type": "code",
   "execution_count": 6,
   "metadata": {},
   "outputs": [],
   "source": [
    "def place_marker(matrix,turn,position):\n",
    "    matrix[position] = turn\n",
    "    return matrix[position]\n",
    "    "
   ]
  },
  {
   "cell_type": "code",
   "execution_count": 7,
   "metadata": {},
   "outputs": [],
   "source": [
    "def space_check(matrix,position):\n",
    "    if matrix[position] == ' ':\n",
    "        return True\n",
    "    else:\n",
    "        return False"
   ]
  },
  {
   "cell_type": "code",
   "execution_count": 8,
   "metadata": {},
   "outputs": [],
   "source": [
    "def full_board_check(matrix):\n",
    "    for i in range(1,10):\n",
    "        if not space_check(matrix,i):\n",
    "            game_on = False\n",
    "        else:\n",
    "            game_on = True\n",
    "            break\n",
    "    return not game_on"
   ]
  },
  {
   "cell_type": "code",
   "execution_count": 9,
   "metadata": {},
   "outputs": [],
   "source": [
    "def play_again():\n",
    "    decision = 'Wrong'\n",
    "    while decision not in ['Yes','No']:\n",
    "        decision = input(\"Are you ready to play ? Enter Yes or No : \")\n",
    "        if decision == 'Yes':\n",
    "            return True\n",
    "        else:\n",
    "            return False\n",
    "    "
   ]
  },
  {
   "cell_type": "code",
   "execution_count": 10,
   "metadata": {},
   "outputs": [
    {
     "name": "stdout",
     "output_type": "stream",
     "text": [
      "Welcome to Tic Tac Toe....! \n",
      " X | O | X \n",
      " O | X | O \n",
      " O | X | O \n",
      "The game is a Draw..!!\n",
      "Are you ready to play ? Enter Yes or No : No\n"
     ]
    }
   ],
   "source": [
    "   \n",
    "    \n",
    "    while True:\n",
    "        print ('Welcome to Tic Tac Toe....! ')\n",
    "        matrix = [' ']*10\n",
    "        display_board(matrix)\n",
    "        player_1,player_2 = player_input()\n",
    "        game_on = readytoplay()\n",
    "        turn = choice_first()\n",
    "        \n",
    "        while game_on == True:\n",
    "            if turn == 'Player 1':\n",
    "                position = int(input('Choose a position (1-9) Player 1 :'))\n",
    "                place_marker(matrix,player_1,position)\n",
    "                display_board(matrix)\n",
    "                if win_check(matrix,'X'):\n",
    "                    print ('Congratulation Player 1 Won..!!')\n",
    "                    game_on = False\n",
    "                else:\n",
    "                    if full_board_check(matrix):\n",
    "                        print ('The game is a Draw..!!')\n",
    "                        game_on = False\n",
    "                    else:\n",
    "                        pass\n",
    "                turn ='Player 2'\n",
    "            else:\n",
    "                position = int(input('Choose a position (1-9) Player 2 :'))\n",
    "                place_marker(matrix,player_2,position)\n",
    "                display_board(matrix)\n",
    "                if win_check(matrix,'O'):\n",
    "                    print ('Congratulation Player 2 Won..!!')\n",
    "                    break\n",
    "                else:\n",
    "                    if full_board_check(matrix):\n",
    "                        print ('The game is a Draw..!!')\n",
    "                        break\n",
    "                    else:\n",
    "                        pass\n",
    "                turn ='Player 1'\n",
    "        if not play_again():\n",
    "            break\n",
    "        else:\n",
    "            game_on = True"
   ]
  }
 ],
 "metadata": {
  "kernelspec": {
   "display_name": "Python 3",
   "language": "python",
   "name": "python3"
  },
  "language_info": {
   "codemirror_mode": {
    "name": "ipython",
    "version": 3
   },
   "file_extension": ".py",
   "mimetype": "text/x-python",
   "name": "python",
   "nbconvert_exporter": "python",
   "pygments_lexer": "ipython3",
   "version": "3.8.5"
  }
 },
 "nbformat": 4,
 "nbformat_minor": 4
}
